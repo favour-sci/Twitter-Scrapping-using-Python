{
 "cells": [
  {
   "cell_type": "markdown",
   "metadata": {},
   "source": [
    "##  Scrapping Twitter Using Snscrape"
   ]
  },
  {
   "cell_type": "code",
   "execution_count": 1,
   "metadata": {
    "id": "DvkcXn0lPnUN"
   },
   "outputs": [],
   "source": [
    "!pip install -q snscrape"
   ]
  },
  {
   "cell_type": "code",
   "execution_count": 2,
   "metadata": {
    "id": "C7WwFQ3SP0bV"
   },
   "outputs": [],
   "source": [
    "#Import libraries\n",
    "import os\n",
    "import pandas as pd\n",
    "from datetime import date"
   ]
  },
  {
   "cell_type": "code",
   "execution_count": 3,
   "metadata": {
    "colab": {
     "base_uri": "https://localhost:8080/"
    },
    "id": "A_n4GTvQQD_G",
    "outputId": "19abf1d2-c49b-4cd8-dd11-3abe468d6d9d"
   },
   "outputs": [
    {
     "name": "stdout",
     "output_type": "stream",
     "text": [
      "2022-07-04\n"
     ]
    }
   ],
   "source": [
    "#Indicate date and end date\n",
    "today = date.today()\n",
    "end_date = today\n",
    "print(end_date)"
   ]
  },
  {
   "cell_type": "code",
   "execution_count": 4,
   "metadata": {
    "id": "PandgxfRQKmP"
   },
   "outputs": [],
   "source": [
    "#Input search word\n",
    "search_term = \"tinubu\"\n",
    "from_date = \"2022-01-01\""
   ]
  },
  {
   "cell_type": "code",
   "execution_count": 5,
   "metadata": {
    "colab": {
     "base_uri": "https://localhost:8080/"
    },
    "id": "5YZ08wDSQPKB",
    "outputId": "ceb91798-e547-4e92-a9e6-7651e04389d9"
   },
   "outputs": [
    {
     "name": "stdout",
     "output_type": "stream",
     "text": [
      "Number Of Tweets : 20829\n"
     ]
    }
   ],
   "source": [
    "os.system(f\"snscrape --since {from_date} twitter-search '{search_term} until:{end_date}' > result-tweets.txt\")\n",
    "if os.stat(\"result-tweets.txt\").st_size == 0:\n",
    "    counter = 0 \n",
    "else:\n",
    "    df = pd.read_csv(\"result-tweets.txt\", names=['link'])\n",
    "    counter = df.size\n",
    "            \n",
    "print(\"Number Of Tweets : \" + str(counter))"
   ]
  },
  {
   "cell_type": "code",
   "execution_count": 6,
   "metadata": {
    "colab": {
     "base_uri": "https://localhost:8080/",
     "height": 206
    },
    "id": "KkveMYusbUZT",
    "outputId": "006cfb9b-bcf0-4593-d501-9ac1562c49d8"
   },
   "outputs": [
    {
     "data": {
      "text/html": [
       "\n",
       "  <div id=\"df-09f99f57-1936-47f5-8906-814750fceb25\">\n",
       "    <div class=\"colab-df-container\">\n",
       "      <div>\n",
       "<style scoped>\n",
       "    .dataframe tbody tr th:only-of-type {\n",
       "        vertical-align: middle;\n",
       "    }\n",
       "\n",
       "    .dataframe tbody tr th {\n",
       "        vertical-align: top;\n",
       "    }\n",
       "\n",
       "    .dataframe thead th {\n",
       "        text-align: right;\n",
       "    }\n",
       "</style>\n",
       "<table border=\"1\" class=\"dataframe\">\n",
       "  <thead>\n",
       "    <tr style=\"text-align: right;\">\n",
       "      <th></th>\n",
       "      <th>link</th>\n",
       "    </tr>\n",
       "  </thead>\n",
       "  <tbody>\n",
       "    <tr>\n",
       "      <th>0</th>\n",
       "      <td>https://twitter.com/aroyehunabdula1/status/154...</td>\n",
       "    </tr>\n",
       "    <tr>\n",
       "      <th>1</th>\n",
       "      <td>https://twitter.com/ichaka_bv/status/154374636...</td>\n",
       "    </tr>\n",
       "    <tr>\n",
       "      <th>2</th>\n",
       "      <td>https://twitter.com/emaryomeke/status/15437462...</td>\n",
       "    </tr>\n",
       "    <tr>\n",
       "      <th>3</th>\n",
       "      <td>https://twitter.com/UT_Incredible/status/15437...</td>\n",
       "    </tr>\n",
       "    <tr>\n",
       "      <th>4</th>\n",
       "      <td>https://twitter.com/lanrerasheedbl1/status/154...</td>\n",
       "    </tr>\n",
       "  </tbody>\n",
       "</table>\n",
       "</div>\n",
       "      <button class=\"colab-df-convert\" onclick=\"convertToInteractive('df-09f99f57-1936-47f5-8906-814750fceb25')\"\n",
       "              title=\"Convert this dataframe to an interactive table.\"\n",
       "              style=\"display:none;\">\n",
       "        \n",
       "  <svg xmlns=\"http://www.w3.org/2000/svg\" height=\"24px\"viewBox=\"0 0 24 24\"\n",
       "       width=\"24px\">\n",
       "    <path d=\"M0 0h24v24H0V0z\" fill=\"none\"/>\n",
       "    <path d=\"M18.56 5.44l.94 2.06.94-2.06 2.06-.94-2.06-.94-.94-2.06-.94 2.06-2.06.94zm-11 1L8.5 8.5l.94-2.06 2.06-.94-2.06-.94L8.5 2.5l-.94 2.06-2.06.94zm10 10l.94 2.06.94-2.06 2.06-.94-2.06-.94-.94-2.06-.94 2.06-2.06.94z\"/><path d=\"M17.41 7.96l-1.37-1.37c-.4-.4-.92-.59-1.43-.59-.52 0-1.04.2-1.43.59L10.3 9.45l-7.72 7.72c-.78.78-.78 2.05 0 2.83L4 21.41c.39.39.9.59 1.41.59.51 0 1.02-.2 1.41-.59l7.78-7.78 2.81-2.81c.8-.78.8-2.07 0-2.86zM5.41 20L4 18.59l7.72-7.72 1.47 1.35L5.41 20z\"/>\n",
       "  </svg>\n",
       "      </button>\n",
       "      \n",
       "  <style>\n",
       "    .colab-df-container {\n",
       "      display:flex;\n",
       "      flex-wrap:wrap;\n",
       "      gap: 12px;\n",
       "    }\n",
       "\n",
       "    .colab-df-convert {\n",
       "      background-color: #E8F0FE;\n",
       "      border: none;\n",
       "      border-radius: 50%;\n",
       "      cursor: pointer;\n",
       "      display: none;\n",
       "      fill: #1967D2;\n",
       "      height: 32px;\n",
       "      padding: 0 0 0 0;\n",
       "      width: 32px;\n",
       "    }\n",
       "\n",
       "    .colab-df-convert:hover {\n",
       "      background-color: #E2EBFA;\n",
       "      box-shadow: 0px 1px 2px rgba(60, 64, 67, 0.3), 0px 1px 3px 1px rgba(60, 64, 67, 0.15);\n",
       "      fill: #174EA6;\n",
       "    }\n",
       "\n",
       "    [theme=dark] .colab-df-convert {\n",
       "      background-color: #3B4455;\n",
       "      fill: #D2E3FC;\n",
       "    }\n",
       "\n",
       "    [theme=dark] .colab-df-convert:hover {\n",
       "      background-color: #434B5C;\n",
       "      box-shadow: 0px 1px 3px 1px rgba(0, 0, 0, 0.15);\n",
       "      filter: drop-shadow(0px 1px 2px rgba(0, 0, 0, 0.3));\n",
       "      fill: #FFFFFF;\n",
       "    }\n",
       "  </style>\n",
       "\n",
       "      <script>\n",
       "        const buttonEl =\n",
       "          document.querySelector('#df-09f99f57-1936-47f5-8906-814750fceb25 button.colab-df-convert');\n",
       "        buttonEl.style.display =\n",
       "          google.colab.kernel.accessAllowed ? 'block' : 'none';\n",
       "\n",
       "        async function convertToInteractive(key) {\n",
       "          const element = document.querySelector('#df-09f99f57-1936-47f5-8906-814750fceb25');\n",
       "          const dataTable =\n",
       "            await google.colab.kernel.invokeFunction('convertToInteractive',\n",
       "                                                     [key], {});\n",
       "          if (!dataTable) return;\n",
       "\n",
       "          const docLinkHtml = 'Like what you see? Visit the ' +\n",
       "            '<a target=\"_blank\" href=https://colab.research.google.com/notebooks/data_table.ipynb>data table notebook</a>'\n",
       "            + ' to learn more about interactive tables.';\n",
       "          element.innerHTML = '';\n",
       "          dataTable['output_type'] = 'display_data';\n",
       "          await google.colab.output.renderOutput(dataTable, element);\n",
       "          const docLink = document.createElement('div');\n",
       "          docLink.innerHTML = docLinkHtml;\n",
       "          element.appendChild(docLink);\n",
       "        }\n",
       "      </script>\n",
       "    </div>\n",
       "  </div>\n",
       "  "
      ],
      "text/plain": [
       "                                                link\n",
       "0  https://twitter.com/aroyehunabdula1/status/154...\n",
       "1  https://twitter.com/ichaka_bv/status/154374636...\n",
       "2  https://twitter.com/emaryomeke/status/15437462...\n",
       "3  https://twitter.com/UT_Incredible/status/15437...\n",
       "4  https://twitter.com/lanrerasheedbl1/status/154..."
      ]
     },
     "execution_count": 6,
     "metadata": {},
     "output_type": "execute_result"
    }
   ],
   "source": [
    "df.head()"
   ]
  },
  {
   "cell_type": "code",
   "execution_count": 7,
   "metadata": {
    "id": "5iifqJylQUqO"
   },
   "outputs": [],
   "source": [
    "#maximum Number of tweet\n",
    "max_results = 100"
   ]
  },
  {
   "cell_type": "code",
   "execution_count": 11,
   "metadata": {
    "colab": {
     "base_uri": "https://localhost:8080/"
    },
    "id": "mczKJXbTQbWQ",
    "outputId": "c3a19c83-0528-41ad-8da2-dd5143cccd63"
   },
   "outputs": [
    {
     "name": "stdout",
     "output_type": "stream",
     "text": [
      "(0, \"@iamjaykz Can Obi defeat TINUBU according to your own logic...?\\\\n\\\\nBecause I believe common sense ain't common here...\")\n",
      "(1, \"'@Ayomitidipo So Peter Obi should be his VP?And why is he begging and always having Peter Obi in his mouth\")\n",
      "(2, \"'@ObumO @ijayceedesigns @oneeyeoracle @chymaker @AfamDeluxo @atiku @officialABAT @OfficialAPCNg Importing is different from have shares in a generator company'\")\n",
      "(3, \"'“The best way to win election today is to have a great yesterday that will bear you witness.” -Asiwaju Bola Ahmed Tinubu \\\\n\\\\n#Jeffrey4Obi\\\\n#NaijaNews \\\\n#PeterObiTheNationalist \\\\n#BAT2023 \\\\n#Progressivevolunteersfortinubu https://t.co/W3ShRsSqq7'\")\n",
      "(4, \"'@von_Bismack We are not foolish like you \\\\n\\\\nTinubu has 11 northen governors out of 19 .\\\\n\\\\nHe needs no light weight like kwanlwaso \\\\n\\\\nNa obidense people level be thst \\\\n\\\\nNorthernees in apc made tinubu their candidate \\\\n\\\\nHe is not your mate'\")\n",
      "(5, \"'@Shehusky @Riwaony This is a report of how Tinubu backed OPC slaughtered many Northerners in Lagos https://t.co/K4lgyrsIwG'\")\n",
      "(6, \"'…career politicians have milked the country and it’s getting dry. I’ll vote Peter Obi because I see him as the best candidate to start the rebuild\")\n",
      "(7, \"@LordIsaiah01 @dr_chinwendu @biodunalexa @channelstv @PeterObi It cannot work bro. Edo that oshomole no fit deliver. Nobody likes APC from Edo down to South east and south South. Also Tinubu doesn't have a good track record\")\n",
      "(8, \"'Addicted @officialABAT \\\\n Where are you ?\\\\n@DavidsOffor @HonAminuSuleim @tajudine2013gm2  @Successcare2 @TinubuOclock'\")\n",
      "(9, \"Inec presents Tinubu as the winner of the presidential elections!\\\\n\\\\nGistlover: there's a slave ship to Europe, America and Australia\\\\n\\\\nNigerian youths: ☠️\\\\n\\\\nHe's 37 | Obi's VP | Pastor Adeboye Toyosi | Igbo's Tobi | Maria Choke | Rahman Jago https://t.co/GnwIrpI2Wf\")\n",
      "(10, \"'Tinubu\")\n",
      "(11, \"'@selebowei @Deenedge @OGB_Recent1 @Mochievous @officialABAT He needs is balance 🌽\\\\U0001fa96lol'\")\n",
      "(12, \"'@BashirAhmaad @BashirAhmaad @GarShehu @ProfIsaPantami @ProfOsinbajo @atiku @NGRPresident @MBuhari @KashimSM @officialABAT https://t.co/Tj75I3nnIe'\")\n",
      "(13, \"'Tinubu has 60% chance of winning 2023 presidential election–Osita\\\\xa0Okechukwu https://t.co/sGLBk9VGWK'\")\n",
      "(14, \"@kategbepo @rudeboypsquare Are they citizens of Paris??... won't they be back before election next year??..if peter obi doesn't win how will it affect them ??... they have 2 houses in USA and citizenship??..where is Atiku and tinubu??...fool...see your face like provety\")\n",
      "(15, \"'@adeyanjudeji 👏👏👏👏👏👏👏👏 I hope you’re happy now. Let kwakwanso go and deputize Tinubu\")\n",
      "(16, \"'Asiwaju Bola Ahmed Tinubu Campaign receives a boost As a Football Club Declares Support For His Presidency\")\n",
      "(17, \"'@Abdullahabiola5 @Qdpaper2 @Mr_JAGs @TinubuMediaS @officialABAT JAGABAN mandate we pin 📌💪'\")\n",
      "(18, \"'@MKbunkure We will take Tinubu or Atiku'\")\n",
      "(19, \"I'm not built to suffer fools gladly, so, pls keep your stupidity to yourself, as I consider any support for Atiku and Tinubu politically as the purest form of stupidity ever.\\\\n\\\\n#PeterObi4President2023 #PeterObiTheNationalist\")\n",
      "(20, \"'@EbinumJohan @toluogunlesi No\")\n",
      "(21, \"@LordIsaiah01 @dr_chinwendu @biodunalexa @channelstv @PeterObi Which Edo state\\\\nJust don't mention Tinubu name from Edo down to Rivers state\")\n",
      "(22, \"'@Ogbenuten_Talk @Saythetruth_ng @JeffreyGuterman Lol 😂😂 says someone supporting Tinubu.'\")\n",
      "(23, \"'Tinubu will win by 60% in 2023\")\n",
      "(24, \"'We shall revenge with our votes come 2023.\\\\nTINUBU WILL NEVER BE IN ASO ROCK\\\\nIt is @PeterObi or no one else.\\\\n#PeterObiTheNationalist https://t.co/qhG2QzU0OV'\")\n",
      "(25, \"'@KedonoMomoh @Lordm3la @edim_promiz @BashirAhmaad So having a man like Tinubu to rule a country already in a dying state like Nigeria is a better option. I will not see any bad when people agitate for AA but BAT\")\n",
      "(26, \"'@Martin25884708 @dr_chinwendu @biodunalexa @channelstv @PeterObi Anything that make tinubu have 3m vote in the two region he don finish I know he will have many vote in Edo but he might not win.'\")\n",
      "(27, \"'@Masterpiece5ive @akinalabi @proffemi Yes o\")\n",
      "(28, \"'@thekaysie So Bola Tinubu who is human should not be seen visiting a hospital\")\n",
      "(29, \"'@Anikof_10 @IshaqAuwal14 @BashirAhmaad Here is what Tinubu did https://t.co/EbjMEev4Pb'\")\n",
      "(30, \"@iamjaykz Every politician...??\\\\n\\\\nEven a small KWANKWASO said he OBI can't compete with him...\\\\nTalkless of TINUBU..\\\\nDo you want him to shit his pant off...??\")\n",
      "(31, \"'United we stand divided we fall\\\\nLets Unite ourselves and live peacefully with one another..\\\\nSay no to\\\\nIpob\\\\nBoko haram\\\\nBanditry\\\\nAnd all related terrorist groups\\\\nLets advocate for goose governance without fighting ourselves\\\\n\\\\nKwankwaso for president/Peter obi vise \\\\nTinubu president https://t.co/9NvOjv0a6e'\")\n",
      "(32, \"'The Vice President has issued a formal statement congratulating Asiwaju Tinubu on his victory yesterday as APC\\\\'s Presidential Flagbearer in next year\\\\'s election. In the statement\")\n",
      "(33, \"'@osasa6th @zbnfam @Tolanipensaint @PeterObi @officialABAT Place the bet\")\n",
      "(34, \"'@segalink @adeyanjudeji If you like tweet if you like Twitter all we know is good a good leader not a politician like you fools craving for our money \")\n",
      "(35, \"'@atkjnr For equity and fairness\")\n",
      "(36, \"@LordIsaiah01 @dr_chinwendu @biodunalexa @channelstv @PeterObi He's somehow right\\\\nTinubu is vindictive and doesn't have a good track record. Only a good vp might save him in the north. South east and south South, no go area for him. Infact they don't even want to hear his name\")\n",
      "(37, \"'@Araaire @emeritus3310 Yeah\")\n",
      "(38, \"@Only__One__Dave @DaddyKendrick_ @stainless_rail @HisKnowledgeabl @PeterObi 1. What is Tinubu's real name?\\\\n2. How did Tinubu make his money?\\\\n3. Where are Tinubu's certificate?\\\\n4. How is Tinubu's Health?\")\n",
      "(39, \"'@khalifadee Kwankwaso will not win Kano. I pray the guy contest\")\n",
      "(40, \"'Everything About APC’s Presidential Candidate\")\n",
      "(41, \"Are you actually normal?🤨\\\\n\\\\n“Tinubu who waste tax payers' money on medical tourism” https://t.co/Jqp3rml3ej\")\n",
      "(42, \"'@LordIsaiah01 @Martin25884708 @biodunalexa @channelstv @PeterObi Oh u have added amaechi now... I thought u were calling tinubu before as if he did it all alone?!'\")\n",
      "(43, \"'@Aliyu65304903 @Sadiqsans @PeterObi Nice that’s your choice … At least he is better than Atiku and Tinubu but Peter Obi is better than him… we are talking about who we can entrust our nation and future in his hand … Buhari have showed us shege'\")\n",
      "(44, \"'TINUBU vs LAGOS MONEY https://t.co/hpD4YVR3DA'\")\n",
      "(45, \"'@BashirAhmaad sir\")\n",
      "(46, \"'Everything About APC’s Presidential Candidate\")\n",
      "(47, \"@Martin25884708 @LordIsaiah01 @biodunalexa @channelstv @PeterObi See bro, APC are as confused and divided more than ever... And they can't solve it till election, u will see... Do u know how many serious party members in APC who don't like tinubu?!... Just go and ask?!..\")\n",
      "(48, \"'@Beyondclassroo3 @toluogunlesi Tinubu if from Osun state\")\n",
      "(49, \"@PObilonu @makedemhear @von_Bismack They will see shock on election day. Tinubu's only majority vote will be from the West.\")\n",
      "(50, \"@LordIsaiah01 @dr_chinwendu @biodunalexa @channelstv @PeterObi APC still doesn't have a chance\\\\nThe North doesn't like Tinubu either\")\n",
      "(51, \"'Tinubu has 60% chance of winning 2023 presidential election–Osita Okechukwu - https://t.co/5FuLzFOVHx https://t.co/GLd1HNg18m'\")\n",
      "(52, \"'VP slot: Tinubu snubs N’West APC govs\")\n",
      "(53, \"@YOLO47443454 @4cbenamis @Delejackson4 @renoomokri Come to Chicago, You can also seek redress through a law suit. Honestly  you do have the right to approach the Court.Thank God you agree that Sowore is the best &amp; has gotten no baggage. Pitobi, Tinubu, Atiku, &amp; Kwakwanso, they're all One, they're all Shambolic VAGABONDS.ObiLinus!\")\n",
      "(54, \"'@novieverest Tinubu slaves can not do without mentioning his name 🤣🤣🤣'\")\n",
      "(55, \"If Peter Obi doesn't stand a chance Dear @officialABAT @atiku why are your supporters so bothered about him?\\\\n#PeterObi2023\")\n",
      "(56, \"'@toluogunlesi Face Atiku\")\n",
      "(57, \"'@LordIsaiah01 @dr_chinwendu @biodunalexa @channelstv @PeterObi Tinubu and Amaechi'\")\n",
      "(58, \"'As it is now\")\n",
      "(59, \"@Qdpaper2 I noticed that many online supporters of Tinubu are not Nigerian residents. I don't pray that they will return to Nig. but God will give us Peter Obi to make Nigeria better than the countries they reside.\")\n",
      "(60, \"'South-East demands senate presidency and the SGF from\\\\xa0Tinubu https://t.co/yDg8cPpR80'\")\n",
      "(61, \"When we were saying Buhari wasn't the man people thought he was in 2014,they were screaming 1984 &amp; 1996 louder than Anambra today..May God not allow a repeat in 2023.A simple prayer-May Peter Obi happen to your life even if he is not President &amp; May Tinubu happen to mine too.\")\n",
      "(62, '\\'@firstladyship Tinubu supporters who are Twitter 24/7 are the ones you say want \"Tinubu ban\"')\n",
      "(63, \"'@NGRLabourParty As it is now\")\n",
      "(64, \"@thaPotato_Man @Kayloaded1 @Imranmuhdz @woye1 @Osberry_Osb @Dontee___ @AsiwajuOladimej @ValiantNig @KingArthurOG @kayodebakre8 @TheresaTekenah I don't know why you had to mind that skull miner. Already dreaming of victory as if it is easy to achieve. Even Tinubu bullion van will not be sufficient to hold against the weights of opposition from PDP and LP in 2023 general election.\")\n",
      "(65, \"'@rantitimilehin @officialABAT @Dhikroo'\")\n",
      "(66, \"'@MaaziEzeoke @PeterObi Let us concede for once that PO supporters are violent on social media but surely this cannot be compared to the thuggery and physical assault by Tinubu agents on  traders  and residents of Lagos state who trooped out for PVC  registration…no one talked about this\")\n",
      "(67, \"'@abubakarjpn @Iammicci1 @Bamo_Lee1 @arinzeve @GazetteNGR What was Kano state allocations\")\n",
      "(68, \"'@renoomokri Yes you are lying. Not all Obi supporters are attacking people on the internet\")\n",
      "(69, \"@thecableng @simonkolawole @officialABAT @OfficialAPCNg @inecnigeria @femigbaja @kfayemi @tunderahmanu @drobafemihamzat @GarShehu @GboyegaOyetola Isn't he trying to hush it?\")\n",
      "(70, \"@GlobalCitizenA4 @von_Bismack @officialABAT Go and look at hausa pages on Facebook. They mock Tinubu with face gestures. I don't know how favourably they think of Peter Obi but Tinubu for sure isn't liked by many Northerners. If the West is banking on northern votes, on that election day you'll be shocked.\")\n",
      "(71, \"'@AmbassadorCorp_ @oma_oritse @NonsoNdubisi @concept995 @bossuche1 There is no record that says Tinubu himself pioneered the Governors Pension Law. That makes you the ignorant one'\")\n",
      "(72, \"@orjikuramo @Joseph__S_cott @Mr_JAGs @officialABAT What's the meaning of this, after you have collect the money\")\n",
      "(73, \"'@timo3thy @g_makuachukwu2 @officialABAT As Buhari don lead u well. Agbado people'\")\n",
      "(74, \"'@luxypriest @adaigbo_2022 Tinubu did nothing for public schools... I should know I was in a public school during his tenure'\")\n",
      "(75, \"'@trendingdotng @johnniedracks @freddie_baba @minospeed007 @thecableng @senkwankwaso @KwankwasoRM @PeterObi @Official_LPN Oga go and seat down … the people that are going to Vote Atiku and Tinubu are not making noise … coming from a hunger and suffer candidate .. INEC PRESIDENT\")\n",
      "(76, \"@Morris_Monye @Anitlaurel At this point, we should start direct the biles, venoms and curses at The BATshit @officialABAT who has himself claimed full responsibility for the @mbuhari calamity that befell Nigeria.\\\\n\\\\nAnd, when done being angry, let's channel the energies to thwarting his EmiLokanistic dreams\")\n",
      "(77, \"@martin10042 @omoajiye @henryshield First of all Nigeria isn't Lagos and Lagos has always been that way, way b4 Tinubu. Secondly of all that man is terribly sick. Lastly I can tell u for free that a Nigeria under Tinubu will be worse than what you have atm.\")\n",
      "(78, \"'Them say Tinubu and him running mate na Akin and pawpaw...chai Nigeria no go enter one chance two times o https://t.co/LM5kgTQVpF'\")\n",
      "(79, \"'@luxypriest @adaigbo_2022 Show us video or pictures of the state Tinubu left the schools. Leave grammar\")\n",
      "(80, \"'@Olabisioflagos @MrFokanBale @officialABAT @DrOlusesan @asiwaju https://t.co/L0kMQhC6fU'\")\n",
      "(81, \"After watching this video from start to finish, I understood more why @PeterObi is not desperate for presidency. It's the 9ja youths that will suffer unnumbered yrs if we miss giving him our MANDATE. Not Tinubu nor Atiku https://t.co/06WuncrBy4\\\\nDON'T BE FOOLED\\\\nKwankwaso Poju\")\n",
      "(82, \"'@Progressive4BAT @tobbiematthew @scarfizal @officialABAT @Equityoyo @ekometa @MrAfobaje @tosino52 @Tinubufrontier @cbngov_akin1 @JohnFanimokun The Jagaban Borgu'\")\n",
      "(83, \"'@LordIsaiah01 @dr_chinwendu @biodunalexa @channelstv @PeterObi For now based on popularity\")\n",
      "(84, \"'Which Primary and Secondary Schools Did Tinubu Attend In Nigeria?\\\\n\\\\nUp till now\")\n",
      "(85, \"'@BamigboyeOlami @simon_ekpa You are the confused lot here. Are there not yoruba elders calling for secession too and people still want to vote for Tinubu.  You are guys really confused though'\")\n",
      "(86, \"'@YouthsTinubu @officialABAT @Idris59214913 @Dawakiii @DOlusegun @TinubuMediaS @abikedabiri @cbngov_akin1 He is suppose to be an elderstates man by now not draggin position with younger men.\\\\nHe couldnt hold a flag.\\\\nThats a sign you are ignoring.'\")\n",
      "(87, \"'Where is tinubu?\\\\nSanyasi'\")\n",
      "(88, \"'@EModecai @DeeOneAyekooto So truly this man here is Tinubu? https://t.co/1ofA0zhJnR'\")\n",
      "(89, \"'@MichaelOkwegba @thebardogbamola. See this video and look from the media team it enacted from! Tinubu has created a divisionary tactics in an attempt to weaken your base. I might be for Atiku &amp; your for Obi but the common enemy we all have failed to see is Tinubu.'\")\n",
      "(90, \"'@boss_donnyperry @IshaqAuwal14 @BashirAhmaad about and robbing us of our properties. \\\\nThe last one said Tinubu built Atlantic Ocean. \\\\nI am tired. \\\\nWhat did Tinubu do in Lagos?'\")\n",
      "(91, \"@ChineloOfoche @AishaYesufu @renoomokri @segalink @PeterObi Atiku or Tinubu have never called his supporters to order for spreading lies but Peter Obi keep coming here to appeal and apologize. It's annoying... He is giving his enemies armor to attack.\")\n",
      "(92, \"'@imp213x Using Nairaland and Sahara reporter to be instigating crisis. All thanks to Tinubu'\")\n",
      "(93, \"'@LordIsaiah01 @dr_chinwendu @biodunalexa @channelstv @PeterObi I doubt\\\\nAll of them are on a level playing ground\\\\nNo region actually have the monopoly to win.\\\\nFor now\")\n",
      "(94, \"'https://t.co/0vl9IaUi5Y Read the report of how OPC funded by Tinubu as governor of Lagos committed genocide against Northerners living in Lagos'\")\n",
      "(95, \"'@boss_donnyperry @IshaqAuwal14 @BashirAhmaad The other one who tried to attempt the question told me Tinubu is a loyal party man and have worked hard to keep his party ACN for years. Is this what Tinubu achieved in Lagos.'\")\n",
      "(96, \"'Teacher: what is the meaning of APC?\\\\nStudent:  Association of people without certificates \\\\nTeacher: Give me 2 examples\\\\nStudent: Buhari and Tinubu von Bullion\\\\nTeacher: Excellent!'\")\n",
      "(97, \"'@boss_donnyperry @IshaqAuwal14 @BashirAhmaad Then he turned around and told me Tinubu raised and installed the two Governors who did those. \\\\nI shuddered.The other made attempt and told me Tinubu increased Lagos State IGR\\\\nI agreed.'\")\n",
      "(98, \"@boss_donnyperry @IshaqAuwal14 @BashirAhmaad I have been asking what Tinubu did in Lagos, for 3 days, nobody have been able to mention anything.\\\\nOne attempted to lie. He said Lagos is Africa's largest economy. I reminded him that this was under Ambode.He tried to lie again and referred to an IPP that was done under Fashola\")\n",
      "(99, \"'@TomiwaAyandibu @delta_farmers @akinalabi Was Peter not a gov same way tinubu was? What do you mean by the old folks besides tinubu has achieved more as a governor than Peter obi.'\")\n"
     ]
    }
   ],
   "source": [
    "#Extract tweet and read into CSV file\n",
    "extracted_tweets = \"snscrape --format '{content!r}'\"+ f\" --max-results {max_results} --since {from_date} twitter-search '{search_term} until:{end_date}' > extracted-tweets.txt\"\n",
    "os.system(extracted_tweets)\n",
    "if os.stat(\"extracted-tweets.txt\").st_size == 0:\n",
    "    print('No Tweets found')\n",
    "else:\n",
    "    df = pd.read_csv('extracted-tweets.txt', names=['content'])\n",
    "    for row in df['content'].iteritems():\n",
    "        print(row)"
   ]
  },
  {
   "cell_type": "markdown",
   "metadata": {},
   "source": [
    "Method 2"
   ]
  },
  {
   "cell_type": "code",
   "execution_count": null,
   "metadata": {},
   "outputs": [],
   "source": [
    "#Import Libraries\n",
    "import snscrape.modules.twitter as sntwitter\n",
    "import pandas as pd"
   ]
  },
  {
   "cell_type": "code",
   "execution_count": null,
   "metadata": {},
   "outputs": [],
   "source": [
    "#Create an empty list\n",
    "tweet_data = []"
   ]
  },
  {
   "cell_type": "code",
   "execution_count": null,
   "metadata": {},
   "outputs": [],
   "source": [
    "#Enter search keyword and number of tweet\n",
    "username = input(\"Enter your Keyword:\")\n",
    "number = int(input(\"How many tweets do you want to scrape:\"))"
   ]
  },
  {
   "cell_type": "code",
   "execution_count": null,
   "metadata": {},
   "outputs": [],
   "source": [
    "for i, tweets in enumerate(sntwitter.TwitterSearchScraper(\"{}\".format(username)).get_items()):\n",
    "    if i > number:\n",
    "        break\n",
    "    tweet_data.append([tweets.date, tweets.content, tweets.url])\n",
    "df = pd.DataFrame(tweet_data, columns=[\"date\", \"tweet\", \"url\"])"
   ]
  },
  {
   "cell_type": "code",
   "execution_count": null,
   "metadata": {},
   "outputs": [],
   "source": [
    "df.head()"
   ]
  }
 ],
 "metadata": {
  "colab": {
   "collapsed_sections": [],
   "name": "Twitter Scrape.ipynb",
   "provenance": []
  },
  "kernelspec": {
   "display_name": "Python 3 (ipykernel)",
   "language": "python",
   "name": "python3"
  },
  "language_info": {
   "codemirror_mode": {
    "name": "ipython",
    "version": 3
   },
   "file_extension": ".py",
   "mimetype": "text/x-python",
   "name": "python",
   "nbconvert_exporter": "python",
   "pygments_lexer": "ipython3",
   "version": "3.9.7"
  }
 },
 "nbformat": 4,
 "nbformat_minor": 1
}
